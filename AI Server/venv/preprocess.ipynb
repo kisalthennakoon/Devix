{
 "cells": [
  {
   "cell_type": "code",
   "execution_count": 2,
   "id": "eb28bcd0",
   "metadata": {},
   "outputs": [],
   "source": [
    "import cv2\n",
    "import numpy as np\n",
    "\n",
    "def remove_right_bar(image_path, output_path):\n",
    "    \"\"\"\n",
    "    Automatically remove the right-side temperature scale bar from thermal images.\n",
    "    \n",
    "    Args:\n",
    "        image_path (str): Path to input image.\n",
    "        output_path (str): Path to save cropped image.\n",
    "    \"\"\"\n",
    "    # Load image\n",
    "    img = cv2.imread(image_path)\n",
    "    gray = cv2.cvtColor(img, cv2.COLOR_BGR2GRAY)\n",
    "\n",
    "    # Normalize and threshold to highlight bright vertical bar\n",
    "    _, thresh = cv2.threshold(gray, 200, 255, cv2.THRESH_BINARY)\n",
    "\n",
    "    # Find contours\n",
    "    contours, _ = cv2.findContours(thresh, cv2.RETR_EXTERNAL, cv2.CHAIN_APPROX_SIMPLE)\n",
    "\n",
    "    # Assume the bar is the largest vertical contour near the right edge\n",
    "    max_area = 0\n",
    "    bar_x = None\n",
    "    for cnt in contours:\n",
    "        x, y, w, h = cv2.boundingRect(cnt)\n",
    "        if x > gray.shape[1] * 0.7:  # ensure it's near right edge\n",
    "            area = w * h\n",
    "            if area > max_area:\n",
    "                max_area = area\n",
    "                bar_x = x\n",
    "\n",
    "    if bar_x is not None:\n",
    "        cropped = img[:, :bar_x]  # crop everything left of bar\n",
    "    else:\n",
    "        cropped = img  # fallback: no crop if no bar detected\n",
    "\n",
    "    # Save result\n",
    "    cv2.imwrite(output_path, cropped)\n",
    "    print(f\"Processed and saved: {output_path}\")\n"
   ]
  },
  {
   "cell_type": "code",
   "execution_count": 3,
   "id": "41832a63",
   "metadata": {},
   "outputs": [
    {
     "name": "stdout",
     "output_type": "stream",
     "text": [
      "Processed and saved: thermal_cropped1.jpg\n"
     ]
    }
   ],
   "source": [
    "remove_right_bar(\"thermal_cropped.jpg\", \"thermal_cropped1.jpg\")"
   ]
  }
 ],
 "metadata": {
  "kernelspec": {
   "display_name": "Python 3",
   "language": "python",
   "name": "python3"
  },
  "language_info": {
   "codemirror_mode": {
    "name": "ipython",
    "version": 3
   },
   "file_extension": ".py",
   "mimetype": "text/x-python",
   "name": "python",
   "nbconvert_exporter": "python",
   "pygments_lexer": "ipython3",
   "version": "3.13.3"
  }
 },
 "nbformat": 4,
 "nbformat_minor": 5
}
